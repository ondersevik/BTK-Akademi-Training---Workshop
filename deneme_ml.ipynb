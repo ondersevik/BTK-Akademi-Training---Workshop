{
 "cells": [
  {
   "cell_type": "markdown",
   "metadata": {},
   "source": [
    "# SVR MACHINES"
   ]
  },
  {
   "cell_type": "code",
   "execution_count": 1,
   "metadata": {},
   "outputs": [],
   "source": [
    "# 1. KUTUPHANELERİN YUKLENMESİ [2.1-2.2]\n",
    "\n",
    "import numpy as np\n",
    "import pandas as pd\n",
    "import matplotlib.pyplot as plt"
   ]
  },
  {
   "cell_type": "code",
   "execution_count": 2,
   "metadata": {},
   "outputs": [
    {
     "name": "stdout",
     "output_type": "stream",
     "text": [
      "              unvan  Egitim Seviyesi   maas\n",
      "0             Cayci                1   2250\n",
      "1          Sekreter                2   2500\n",
      "2  Uzman Yardimcisi                3   3000\n",
      "3             Uzman                4   4000\n",
      "4  Proje Yoneticisi                5   5500\n",
      "5               Sef                6   7500\n",
      "6             Mudur                7  10000\n",
      "7          Direktor                8  15000\n",
      "8           C-level                9  25000\n",
      "9               CEO               10  50000\n"
     ]
    },
    {
     "data": {
      "text/plain": [
       "(None, pandas.core.frame.DataFrame)"
      ]
     },
     "execution_count": 2,
     "metadata": {},
     "output_type": "execute_result"
    }
   ],
   "source": [
    "# 2. VERİ YÜKLEME (comma seperated value virgulle ayrılan veriler )\n",
    "\n",
    "veriler = pd.read_csv(\"maaslar.csv\")\n",
    "print(veriler), type(veriler)"
   ]
  },
  {
   "cell_type": "code",
   "execution_count": 3,
   "metadata": {},
   "outputs": [],
   "source": [
    "# 2d1. ON İŞLEME Katogorik Verilerle Çalışma [2.6] : Katogorik veri yoktur.\n",
    "\n",
    "\n",
    "\n",
    "\n",
    "# 2d2. ON İŞLEME Eksik Verilerle Çalışma [2.5] : Eksik Veri yoktur.\n",
    "# ARRAY - DATAFRAME DONUŞUMLERİNE GEREK YOKTUR."
   ]
  },
  {
   "cell_type": "code",
   "execution_count": 4,
   "metadata": {},
   "outputs": [
    {
     "data": {
      "text/plain": [
       "(   Egitim Seviyesi\n",
       " 0                1\n",
       " 1                2\n",
       " 2                3\n",
       " 3                4\n",
       " 4                5\n",
       " 5                6\n",
       " 6                7\n",
       " 7                8\n",
       " 8                9\n",
       " 9               10,\n",
       "     maas\n",
       " 0   2250\n",
       " 1   2500\n",
       " 2   3000\n",
       " 3   4000\n",
       " 4   5500\n",
       " 5   7500\n",
       " 6  10000\n",
       " 7  15000\n",
       " 8  25000\n",
       " 9  50000,\n",
       " pandas.core.frame.DataFrame,\n",
       " array([[ 1],\n",
       "        [ 2],\n",
       "        [ 3],\n",
       "        [ 4],\n",
       "        [ 5],\n",
       "        [ 6],\n",
       "        [ 7],\n",
       "        [ 8],\n",
       "        [ 9],\n",
       "        [10]], dtype=int64),\n",
       " array([[ 2250],\n",
       "        [ 2500],\n",
       "        [ 3000],\n",
       "        [ 4000],\n",
       "        [ 5500],\n",
       "        [ 7500],\n",
       "        [10000],\n",
       "        [15000],\n",
       "        [25000],\n",
       "        [50000]], dtype=int64),\n",
       " numpy.ndarray)"
      ]
     },
     "execution_count": 4,
     "metadata": {},
     "output_type": "execute_result"
    }
   ],
   "source": [
    "# 3. DATAFRAME DİLİMLEME (SLICING) ve DEĞİŞKENLERİ AYIRMA VE NUMPY ARRAY DİZİ DÖNÜŞÜMÜ\n",
    "     # Eğitim seviyesi =x Bağımsız Değişken\n",
    "     # maaslar özellik = Y Bağımlı Değişken\n",
    "\n",
    "x = veriler.iloc[:,1:2]\n",
    "y = veriler.iloc[:,2:]\n",
    "\n",
    "X = x.values\n",
    "Y = y.values\n",
    "# sklearn kutuphanesinde dataframe problem çıkarıyor bu nedenle numpy array dizi olarakta tutacağız.\n",
    "\n",
    "x,y,type(x), X,Y,type(X)"
   ]
  },
  {
   "cell_type": "code",
   "execution_count": 5,
   "metadata": {},
   "outputs": [
    {
     "data": {
      "image/png": "[encoded data removed]",
      "text/plain": [
       "<Figure size 432x288 with 1 Axes>"
      ]
     },
     "metadata": {
      "needs_background": "light"
     },
     "output_type": "display_data"
    }
   ],
   "source": [
    "# 4. LINEAR REGRESYON (LR) [DOGRUSAL MODELLEME] VE VİZUALİZATION [GÖRSELLEŞTİRME] :\n",
    "\n",
    "from sklearn.linear_model import LinearRegression\n",
    "# sklearn kutuphanesinden liner modelden LR import ettik\n",
    "\n",
    "lin_reg = LinearRegression()\n",
    "lin_reg.fit(X,Y)\n",
    "# LR de lin_reg objesi yaratılarak yukraıdki x ve y x2 özellikteki 10 verinin tamamı ile train edeceğiz.\n",
    "\n",
    "# VİZUALİZATION [GÖRSELLEŞTİRME] :\n",
    "\n",
    "plt.scatter(X,Y,color=\"red\")\n",
    "plt.plot(X,lin_reg.predict(X),color=\"green\")\n",
    "plt.show()"
   ]
  },
  {
   "cell_type": "code",
   "execution_count": 6,
   "metadata": {},
   "outputs": [
    {
     "name": "stdout",
     "output_type": "stream",
     "text": [
      "[[  1.   1.   1.]\n",
      " [  1.   2.   4.]\n",
      " [  1.   3.   9.]\n",
      " [  1.   4.  16.]\n",
      " [  1.   5.  25.]\n",
      " [  1.   6.  36.]\n",
      " [  1.   7.  49.]\n",
      " [  1.   8.  64.]\n",
      " [  1.   9.  81.]\n",
      " [  1.  10. 100.]]\n"
     ]
    },
    {
     "data": {
      "image/png": "[encoded data removed]",
      "text/plain": [
       "<Figure size 432x288 with 1 Axes>"
      ]
     },
     "metadata": {
      "needs_background": "light"
     },
     "output_type": "display_data"
    }
   ],
   "source": [
    "# 5A. (DEGREE=2) 2 INCI DERECE POLİNOMAL REGRESYON (PR) [POLİNOMSAL MODELLEME] VE VİZUALİZATION [GÖRSELLEŞTİRME] :\n",
    "\n",
    "from sklearn.preprocessing import PolynomialFeatures\n",
    "# sklearn kutuphanesinden POLİNOMAL derece işlemler yapabiliyoruz.\n",
    "\n",
    "poly_reg = PolynomialFeatures(degree=2)\n",
    "x_poly = poly_reg.fit_transform(X)\n",
    "\n",
    "print(x_poly)\n",
    "# 3 sutun var . x ( eğitim seviyesi) değerinin X⁰ , X¹ , X² karşılıklarını cıkarır. \n",
    "\n",
    "lin_reg2 = LinearRegression()\n",
    "lin_reg2.fit(x_poly,y)\n",
    "\n",
    "# VİZUALİZATION [GÖRSELLEŞTİRME] :\n",
    "\n",
    "plt.scatter(X,Y,color=\"red\")\n",
    "plt.plot(x,lin_reg2.predict(poly_reg.fit_transform(X)),color=\"green\")\n",
    "plt.show()"
   ]
  },
  {
   "cell_type": "code",
   "execution_count": 7,
   "metadata": {},
   "outputs": [
    {
     "name": "stdout",
     "output_type": "stream",
     "text": [
      "[[1.000e+00 1.000e+00 1.000e+00 1.000e+00 1.000e+00]\n",
      " [1.000e+00 2.000e+00 4.000e+00 8.000e+00 1.600e+01]\n",
      " [1.000e+00 3.000e+00 9.000e+00 2.700e+01 8.100e+01]\n",
      " [1.000e+00 4.000e+00 1.600e+01 6.400e+01 2.560e+02]\n",
      " [1.000e+00 5.000e+00 2.500e+01 1.250e+02 6.250e+02]\n",
      " [1.000e+00 6.000e+00 3.600e+01 2.160e+02 1.296e+03]\n",
      " [1.000e+00 7.000e+00 4.900e+01 3.430e+02 2.401e+03]\n",
      " [1.000e+00 8.000e+00 6.400e+01 5.120e+02 4.096e+03]\n",
      " [1.000e+00 9.000e+00 8.100e+01 7.290e+02 6.561e+03]\n",
      " [1.000e+00 1.000e+01 1.000e+02 1.000e+03 1.000e+04]]\n"
     ]
    },
    {
     "data": {
      "image/png": "[encoded data removed]",
      "text/plain": [
       "<Figure size 432x288 with 1 Axes>"
      ]
     },
     "metadata": {
      "needs_background": "light"
     },
     "output_type": "display_data"
    }
   ],
   "source": [
    "# 5B. (DEGREE=4) 4 UNCU DERECE POLİNOMAL REGRESYON (PR) [POLİNOMSAL MODELLEME] VE VİZUALİZATION [GÖRSELLEŞTİRME] :\n",
    "\n",
    "from sklearn.preprocessing import PolynomialFeatures\n",
    "# sklearn kutuphanesinden POLİNOMAL derece işlemler yapabiliyoruz.\n",
    "\n",
    "poly_reg = PolynomialFeatures(degree=4)\n",
    "x_poly = poly_reg.fit_transform(X)\n",
    "\n",
    "print(x_poly)\n",
    "# 3 sutun var . x ( eğitim seviyesi) değerinin X⁰ , X¹ , X² karşılıklarını cıkarır. \n",
    "\n",
    "lin_reg4 = LinearRegression()\n",
    "lin_reg4.fit(x_poly,y)\n",
    "\n",
    "# VİZUALİZATION [GÖRSELLEŞTİRME] :\n",
    "\n",
    "plt.scatter(X,Y,color=\"red\")\n",
    "plt.plot(x,lin_reg4.predict(poly_reg.fit_transform(X)),color=\"green\")\n",
    "plt.show()"
   ]
  },
  {
   "cell_type": "code",
   "execution_count": 8,
   "metadata": {},
   "outputs": [
    {
     "name": "stdout",
     "output_type": "stream",
     "text": [
      "[[34716.66666667]]\n",
      "[[16923.33333333]]\n",
      "[[89041.66666665]]\n",
      "[[8146.9948718]]\n"
     ]
    }
   ],
   "source": [
    "# 6a. PREDICTION [POLINOMEL MODELLEMEDE TAHMİNLEME] :\n",
    "\n",
    "#DİYELİM EĞİTİM SEVİYESİ :11 (YANİ 50000 TRY 10 SEVİYEDEKİ CEONUN USTU VE ) 6.6 (7500 ALAN SEF İLE 10000 ALAN MUDUR ARASI)\n",
    "\n",
    "# 2 NCİ DERECE POLINOMEL TAHMİNLERİ\n",
    "print(lin_reg.predict([[11]]))\n",
    "print(lin_reg.predict([[6.6]]))\n",
    "    \n",
    "# 4 NCÜ DERECE POLINOMEL TAHMİNLERİ   \n",
    "print(lin_reg4.predict(poly_reg.fit_transform([[11]])))\n",
    "print(lin_reg4.predict(poly_reg.fit_transform([[6.6]])))"
   ]
  },
  {
   "cell_type": "code",
   "execution_count": 1,
   "metadata": {},
   "outputs": [
    {
     "ename": "NameError",
     "evalue": "name 'StandartScaler' is not defined",
     "output_type": "error",
     "traceback": [
      "\u001b[1;31m---------------------------------------------------------------------------\u001b[0m",
      "\u001b[1;31mNameError\u001b[0m                                 Traceback (most recent call last)",
      "\u001b[1;32m<ipython-input-1-d1ae3241aaad>\u001b[0m in \u001b[0;36m<module>\u001b[1;34m\u001b[0m\n\u001b[0;32m      5\u001b[0m \u001b[1;31m# 7a. SCALE PHASE :\u001b[0m\u001b[1;33m\u001b[0m\u001b[1;33m\u001b[0m\u001b[1;33m\u001b[0m\u001b[0m\n\u001b[0;32m      6\u001b[0m \u001b[1;32mfrom\u001b[0m \u001b[0msklearn\u001b[0m\u001b[1;33m.\u001b[0m\u001b[0mpreprocessing\u001b[0m \u001b[1;32mimport\u001b[0m \u001b[0mStandardScaler\u001b[0m\u001b[1;33m\u001b[0m\u001b[1;33m\u001b[0m\u001b[0m\n\u001b[1;32m----> 7\u001b[1;33m \u001b[0msc1\u001b[0m \u001b[1;33m=\u001b[0m \u001b[0mStandartScaler\u001b[0m\u001b[1;33m(\u001b[0m\u001b[1;33m)\u001b[0m\u001b[1;33m\u001b[0m\u001b[1;33m\u001b[0m\u001b[0m\n\u001b[0m\u001b[0;32m      8\u001b[0m \u001b[1;33m\u001b[0m\u001b[0m\n\u001b[0;32m      9\u001b[0m \u001b[0mx_scaled\u001b[0m \u001b[1;33m=\u001b[0m \u001b[0msc1\u001b[0m\u001b[1;33m.\u001b[0m\u001b[0mfit_transform\u001b[0m\u001b[1;33m(\u001b[0m\u001b[0mX\u001b[0m\u001b[1;33m)\u001b[0m\u001b[1;33m\u001b[0m\u001b[1;33m\u001b[0m\u001b[0m\n",
      "\u001b[1;31mNameError\u001b[0m: name 'StandartScaler' is not defined"
     ]
    }
   ],
   "source": [
    "# 7. SUPPORT VECTOR MACHINELERİ SVM PREDICTION\n",
    "     # SCALER ZORUNLULUĞU VAR. YANİ X DEĞERLERİ -2 VE +2 ARASINDA OLÇEKLENECEK. GRAFİKTE BAKILIR.SONUÇ DEĞERLERİ BU YUZDEN \n",
    "     # YUKARIDAKİ POLINOM VE LİNEER DEĞERLERDEN FARKLI ÇIKICAK.\n",
    "        \n",
    "# 7a. SCALE PHASE :\n",
    "from sklearn.preprocessing import StandardScaler\n",
    "sc = StandartScaler()\n",
    "\n",
    "x_scaled = sc1.fit_transform(X)\n",
    "# X bağımsız değişkenleri dataframe FİT ile eğitilip sacale edilerek objeye atfedildi.\n",
    "sc2 = StandartScaler()\n",
    "y_scaled = sc1.fit_transform(Y) \n",
    "# Y bağımlı değişken dataframe eğitilip sacale edilerek objeye atfedildi.\n",
    "\n",
    "# 7b. SVR FONKS İLE EĞİTİLMİŞ ÖLÇEKLİ OBJE SAFHASI : \n",
    "from sklearn.svm import SVR\n",
    "# sklearn kutuphanesinden SVM Support Vektor Machine içinden SVR Supprt Vektor Regresyonu ile import ediyoruz.\n",
    "svr_reg = SVR(kernel=\"rbf\")\n",
    "# SVR içinden rbf [temel fonks olan gauss formulu] kernelde svr_reg objesine tanımlandı. \n",
    "svr_reg.fit(x_scaled,y_scaled)\n",
    "# 2 ölçekli değişken arasında FİT ile eğitilip bağlantıyı bulacak.\n",
    "\n",
    "# 7c.VİZUALİZATION [GÖRSELLEŞTİRME] :\n",
    "\n",
    "plt.scatter(x_scaled,y_scaled,color=\"red\")\n",
    "plt.plot(x_scaled,svr_reg.predict(x_scaled),color=\"green\")\n",
    "plt.show()\n",
    "\n",
    "# 8. SVR TAHMİNLERİ [PREDICTION] :  \n",
    "print(svr_reg.predict(11))\n",
    "print(svr_reg.predict(6.6))"
   ]
  },
  {
   "cell_type": "code",
   "execution_count": null,
   "metadata": {},
   "outputs": [],
   "source": []
  }
 ],
 "metadata": {
  "kernelspec": {
   "display_name": "Python 3",
   "language": "python",
   "name": "python3"
  },
  "language_info": {
   "codemirror_mode": {
    "name": "ipython",
    "version": 3
   },
   "file_extension": ".py",
   "mimetype": "text/x-python",
   "name": "python",
   "nbconvert_exporter": "python",
   "pygments_lexer": "ipython3",
   "version": "3.8.5"
  }
 },
 "nbformat": 4,
 "nbformat_minor": 4
}
